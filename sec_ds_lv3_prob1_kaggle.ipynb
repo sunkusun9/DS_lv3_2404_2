{
 "cells": [
  {
   "cell_type": "markdown",
   "id": "765c0422",
   "metadata": {},
   "source": [
    "# 문제 6\n",
    "\n",
    "[Kaggle 형] train_prob.csv로 문제 failure 예측하는 모델을 만들고, \n",
    "\n",
    "test_prob.csv에 대한 failure가 1일 확률 예측하여 다음과 같은 형식의 answer6.csv를 만들어라. \n",
    "\n",
    "측정 지표는 AUC(area under of ROC curve)이다. id 는 테스트 케이스의 id 이고, failure에는 failure가 1이 될 확률이다.\n",
    "\n",
    "id,failure\n",
    "\n",
    "16115, 0.1\n",
    "\n",
    "16116, 0.2\n",
    "\n",
    "\n",
    "**강사: 멀티캠퍼스 강선구(sunku0316.kang@multicampus.com, sun9sun9@gmail.com)**"
   ]
  },
  {
   "cell_type": "code",
   "execution_count": 1,
   "id": "42ff1fa9",
   "metadata": {},
   "outputs": [
    {
     "name": "stdout",
     "output_type": "stream",
     "text": [
      "3.7.4 (tags/v3.7.4:e09359112e, Jul  8 2019, 20:34:20) [MSC v.1916 64 bit (AMD64)]\n",
      "pandas 0.25.1\n",
      "numpy 1.18.5\n",
      "sklearn 0.21.3\n",
      "scipy 1.5.2\n",
      "mlxtend 0.15.0.0\n",
      "statsmodels 0.11.1\n",
      "xgboost 0.80\n"
     ]
    }
   ],
   "source": [
    "# 실행 환경 확인\n",
    "\n",
    "import pandas as pd\n",
    "import numpy as np\n",
    "import sklearn\n",
    "import scipy\n",
    "import statsmodels\n",
    "import mlxtend\n",
    "import sys\n",
    "import xgboost as xgb\n",
    "\n",
    "print(sys.version)\n",
    "for i in [pd, np, sklearn, scipy, mlxtend, statsmodels, xgb]:\n",
    "    print(i.__name__, i.__version__)"
   ]
  },
  {
   "cell_type": "code",
   "execution_count": 2,
   "id": "dfd15a29",
   "metadata": {},
   "outputs": [],
   "source": [
    "df_train = pd.read_csv('train_prob.csv', index_col=['id'])\n",
    "df_test = pd.read_csv('test_prob.csv', index_col=['id'])\n",
    "df_test_ans = pd.read_csv('test_prob.csv', index_col=['id'])"
   ]
  },
  {
   "cell_type": "code",
   "execution_count": 4,
   "id": "4a1a013e",
   "metadata": {},
   "outputs": [],
   "source": [
    "df_train = df_train.assign(\n",
    "    na_1 = lambda x: x['measurement_3'].isna(),\n",
    "    na_2 = lambda x: x['measurement_5'].isna()\n",
    ")\n",
    "\n",
    "df_test = df_test.assign(\n",
    "    na_1 = lambda x: x['measurement_3'].isna(),\n",
    "    na_2 = lambda x: x['measurement_5'].isna()\n",
    ")"
   ]
  },
  {
   "cell_type": "code",
   "execution_count": 20,
   "id": "e20c2316",
   "metadata": {},
   "outputs": [],
   "source": [
    "df_train['loading'] = df_train['loading'].fillna(df_train['loading'].mean())\n",
    "df_test['loading'] = df_test['loading'].fillna(df_train['loading'].mean())"
   ]
  },
  {
   "cell_type": "code",
   "execution_count": 5,
   "id": "ca84391f",
   "metadata": {},
   "outputs": [
    {
     "data": {
      "text/plain": [
       "C    5765\n",
       "E    5343\n",
       "B    5250\n",
       "A    5100\n",
       "Name: product_code, dtype: int64"
      ]
     },
     "execution_count": 5,
     "metadata": {},
     "output_type": "execute_result"
    }
   ],
   "source": [
    "df_train['product_code'].value_counts()"
   ]
  },
  {
   "cell_type": "code",
   "execution_count": 6,
   "id": "2e045109",
   "metadata": {},
   "outputs": [
    {
     "data": {
      "text/plain": [
       "D    5112\n",
       "Name: product_code, dtype: int64"
      ]
     },
     "execution_count": 6,
     "metadata": {},
     "output_type": "execute_result"
    }
   ],
   "source": [
    "df_test['product_code'].value_counts()"
   ]
  },
  {
   "cell_type": "code",
   "execution_count": 7,
   "id": "44a02d51",
   "metadata": {},
   "outputs": [],
   "source": [
    "# 방법 1: product_code 별로 IterativeImputer를 통한 결측처리를 하고 바로 적용합니다.\n",
    "\n",
    "from sklearn.experimental import enable_iterative_imputer\n",
    "from sklearn.impute import IterativeImputer\n",
    "from sklearn.linear_model import LinearRegression\n",
    "\n",
    "imp = IterativeImputer(\n",
    "    estimator = LinearRegression(),\n",
    "    random_state=123\n",
    ")\n",
    "\n",
    "X_iter = ['measurement_{}'.format(i) for i in range(3, 10)] + ['measurement_17']\n",
    "df_train[X_iter] = df_train.groupby('product_code')[X_iter].apply(\n",
    "    lambda x: pd.DataFrame(imp.fit_transform(x[X_iter]), index=x.index, columns=x.columns)\n",
    ")\n",
    "df_test[X_iter] = df_test.groupby('product_code')[X_iter].apply(\n",
    "    lambda x: pd.DataFrame(imp.fit_transform(x[X_iter]), index=x.index, columns=x.columns)\n",
    ")"
   ]
  },
  {
   "cell_type": "code",
   "execution_count": 8,
   "id": "f6886cd8",
   "metadata": {},
   "outputs": [],
   "source": [
    "X_mean = ['measurement_{}'.format(i) for i in range(10, 17)]\n",
    "df_train[X_mean] = df_train.groupby('product_code')[X_mean].transform(lambda x: x.fillna(x.mean()))\n",
    "df_test[X_mean] = df_test.groupby('product_code')[X_mean].transform(lambda x: x.fillna(x.mean()))"
   ]
  },
  {
   "cell_type": "code",
   "execution_count": null,
   "id": "e9ad7a8f",
   "metadata": {},
   "outputs": [],
   "source": [
    "# loading: log 변환\n",
    "# SFS ['loading', 'measurement_1', 'measurement_4', 'measurement_14', 'measurement_17', 'na_1']\n",
    "# from sklearn.discriminant_analysis import LinearDiscriminantAnalysis,  Classifier, Transformer\n",
    "# PCA(n_components=7)\n",
    "# RandomForestClassifier {'max_depth': 7, 'min_samples_split': 512, 'n_estimators': 15} 0.574 튜닝"
   ]
  },
  {
   "cell_type": "code",
   "execution_count": 14,
   "id": "7066c319",
   "metadata": {},
   "outputs": [
    {
     "name": "stdout",
     "output_type": "stream",
     "text": [
      "['A' 'B' 'E'] ['C']\n",
      "['A' 'B' 'C'] ['E']\n",
      "['A' 'C' 'E'] ['B']\n",
      "['B' 'C' 'E'] ['A']\n"
     ]
    }
   ],
   "source": [
    "from sklearn.model_selection import GroupKFold, cross_validate\n",
    "\n",
    "X_all =df_test.columns.tolist()\n",
    "gcv = GroupKFold(n_splits=4)\n",
    "for train_idx, valid_idx in gcv.split(df_train[X_all], df_train['failure'], groups=df_train['product_code']):\n",
    "    print(\n",
    "        df_train.iloc[train_idx]['product_code'].unique(),\n",
    "        df_train.iloc[valid_idx]['product_code'].unique()\n",
    "    )"
   ]
  },
  {
   "cell_type": "code",
   "execution_count": 21,
   "id": "b38463aa",
   "metadata": {},
   "outputs": [
    {
     "data": {
      "text/plain": [
       "{'fit_time': array([0.08676457, 0.08970904, 0.04887724, 0.05969834]),\n",
       " 'score_time': array([0.        , 0.        , 0.00101471, 0.        ]),\n",
       " 'test_score': array([0.5827344 , 0.58852714, 0.57957189, 0.58180685]),\n",
       " 'train_score': array([0.58973664, 0.59171369, 0.58047486, 0.57853698])}"
      ]
     },
     "execution_count": 21,
     "metadata": {},
     "output_type": "execute_result"
    }
   ],
   "source": [
    "from sklearn.linear_model import LogisticRegression\n",
    "clf_lr = LogisticRegression(solver='lbfgs')\n",
    "X_lr = ['loading', 'measurement_1', 'measurement_4', 'measurement_14', 'measurement_17', 'na_1']\n",
    "result = cross_validate(\n",
    "    clf_lr, df_train[X_lr], df_train['failure'], \n",
    "    cv=gcv, groups=df_train['product_code'], \n",
    "    scoring='roc_auc', return_train_score=True\n",
    ")\n",
    "result"
   ]
  },
  {
   "cell_type": "code",
   "execution_count": null,
   "id": "4022fd3d",
   "metadata": {},
   "outputs": [],
   "source": []
  }
 ],
 "metadata": {
  "kernelspec": {
   "display_name": "Python 3 (ipykernel)",
   "language": "python",
   "name": "python3"
  },
  "language_info": {
   "codemirror_mode": {
    "name": "ipython",
    "version": 3
   },
   "file_extension": ".py",
   "mimetype": "text/x-python",
   "name": "python",
   "nbconvert_exporter": "python",
   "pygments_lexer": "ipython3",
   "version": "3.7.4"
  }
 },
 "nbformat": 4,
 "nbformat_minor": 5
}
